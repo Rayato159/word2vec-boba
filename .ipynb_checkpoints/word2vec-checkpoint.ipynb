{
 "cells": [
  {
   "cell_type": "code",
   "execution_count": 1,
   "id": "46e94d8b",
   "metadata": {},
   "outputs": [],
   "source": [
    "import torch\n",
    "import torch.nn as nn\n",
    "import torch.nn.functional as F\n",
    "import torch.optim as optim"
   ]
  },
  {
   "cell_type": "code",
   "execution_count": 2,
   "id": "d920a3d7-315a-4a83-9eb7-e1e636ad959a",
   "metadata": {},
   "outputs": [],
   "source": [
    "cuda = torch.device('cuda')"
   ]
  },
  {
   "cell_type": "code",
   "execution_count": 3,
   "id": "022237f8-e713-4176-a2d7-c9d38ad47f60",
   "metadata": {},
   "outputs": [
    {
     "name": "stdout",
     "output_type": "stream",
     "text": [
      "[(['ขี้', 'อย่างสีเหลือง'], 'มะม่วง'), (['มะม่วง', 'ขี้'], 'แมงโก้'), (['แมงโก้', 'มะม่วง'], 'เตา')]\n"
     ]
    }
   ],
   "source": [
    "CONTEXT_SIZE = 2\n",
    "EMBEDDING_DIM = 10\n",
    "\n",
    "raw_text = \"\"\"\n",
    "อย่างสีเหลือง ขี้\n",
    "มะม่วง แมงโก้\n",
    "เตา อั้งโล่\n",
    "มีด อีโต้\n",
    "ไฮลักซ์ รีโว่\n",
    "เสื้อใน วาโก้\n",
    "ตกใจ โอ้โห้ \n",
    "นักบอล โรนัลโด้\n",
    "เยลลี่ ปีโป้\n",
    "ปั้มน้ำมัน เอสโซ่\n",
    "แบงก์ กาโม่\n",
    "ขนม ยูโร่\n",
    "ของเล่น เลโก้\n",
    "นายก ฮัลโหลล\n",
    "<EOS>\"\"\".split()\n",
    "\n",
    "raw_text_list = raw_text.copy()\n",
    "\n",
    "data = [\n",
    "    (\n",
    "        [raw_text[i - j - 1] for j in range(CONTEXT_SIZE)],\n",
    "        raw_text[i]\n",
    "    )\n",
    "    for i in range(CONTEXT_SIZE, len(raw_text))\n",
    "]\n",
    "\n",
    "print(data[:3])"
   ]
  },
  {
   "cell_type": "code",
   "execution_count": 4,
   "id": "a9f88463-cca5-4684-b64f-6c0f9399eb03",
   "metadata": {},
   "outputs": [],
   "source": [
    "vocab = set(raw_text)\n",
    "word_to_ix = {word: i for i, word in enumerate(vocab)}\n",
    "ix_to_word = {i: word for i, word in enumerate(vocab)}"
   ]
  },
  {
   "cell_type": "code",
   "execution_count": 5,
   "id": "f854a15c-aa82-4167-82c3-c50ef03cf405",
   "metadata": {},
   "outputs": [
    {
     "name": "stdout",
     "output_type": "stream",
     "text": [
      "{'ขี้': 'อย่างสีเหลือง', 'มะม่วง': '', 'แมงโก้': 'มะม่วง', 'เตา': '', 'อั้งโล่': 'เตา', 'มีด': '', 'อีโต้': 'มีด', 'ไฮลักซ์': '', 'รีโว่': 'ไฮลักซ์', 'เสื้อใน': '', 'วาโก้': 'เสื้อใน', 'ตกใจ': '', 'โอ้โห้': 'ตกใจ', 'นักบอล': '', 'โรนัลโด้': 'นักบอล', 'เยลลี่': '', 'ปีโป้': 'เยลลี่', 'ปั้มน้ำมัน': '', 'เอสโซ่': 'ปั้มน้ำมัน', 'แบงก์': '', 'กาโม่': 'แบงก์', 'ขนม': '', 'ยูโร่': 'ขนม', 'ของเล่น': '', 'เลโก้': 'ของเล่น', 'นายก': '', 'ฮัลโหลล': 'นายก', '<EOS>': ''}\n"
     ]
    }
   ],
   "source": [
    "word_map = {}\n",
    "\n",
    "for i, word in enumerate(raw_text_list):\n",
    "    if i == 0:\n",
    "        continue\n",
    "    \n",
    "    if i == len(raw_text_list) - 1 and word != \"<EOS>\":\n",
    "        break\n",
    "\n",
    "    key = \"\"\n",
    "    value = \"\"\n",
    "    \n",
    "    if i % 2 == 1:\n",
    "        key = word\n",
    "        value = raw_text_list[i-1]\n",
    "        word_map[key] = value\n",
    "    else:\n",
    "        key = word\n",
    "        word_map[key] = value\n",
    "\n",
    "print(word_map)"
   ]
  },
  {
   "cell_type": "code",
   "execution_count": 6,
   "id": "ca312278-b878-4a81-9355-a342b26e834a",
   "metadata": {},
   "outputs": [],
   "source": [
    "class NGramLanguageModeler(nn.Module):\n",
    "    \n",
    "    def __init__(self, vocab_size, embedding_dim, context_size):\n",
    "        super(NGramLanguageModeler, self).__init__()\n",
    "        self.embeddings = nn.Embedding(vocab_size, embedding_dim)\n",
    "        self.linear1 = nn.Linear(context_size * embedding_dim, 128, bias=True)\n",
    "        self.linear2 = nn.Linear(128, 128, bias=True)\n",
    "        self.linear3 = nn.Linear(128, vocab_size, bias=True)\n",
    "\n",
    "    def forward(self, inputs):\n",
    "        embeds = self.embeddings(inputs).view((1, -1))\n",
    "        out1 = F.relu(self.linear1(embeds))\n",
    "        out2 = F.relu(self.linear2(out1))\n",
    "        out3 = self.linear3(out2)\n",
    "        log_probs = F.log_softmax(out3, dim=1)\n",
    "        return log_probs\n",
    "\n",
    "    def make_context_vector(self, context, word_to_ix):\n",
    "        idxs = [word_to_ix[w] for w in context]\n",
    "        return torch.tensor(idxs, dtype=torch.long)"
   ]
  },
  {
   "cell_type": "code",
   "execution_count": 7,
   "id": "6c2dc0e6-5ef6-4e95-81bc-f208ce2bace9",
   "metadata": {},
   "outputs": [],
   "source": [
    "losses = []\n",
    "loss_function = nn.CrossEntropyLoss()\n",
    "model = NGramLanguageModeler(len(vocab), EMBEDDING_DIM, CONTEXT_SIZE)\n",
    "optimizer = optim.Adam(model.parameters(), lr=0.001)"
   ]
  },
  {
   "cell_type": "code",
   "execution_count": 8,
   "id": "2911a342-9f18-4b9f-85a8-c82ddbf10156",
   "metadata": {},
   "outputs": [],
   "source": [
    "for epoch in range(1000):\n",
    "    total_loss = 0\n",
    "    for context, target in data:\n",
    "\n",
    "        # Step 1. Prepare the inputs to be passed to the model (i.e, turn the words\n",
    "        # into integer indices and wrap them in tensors)\n",
    "        context_idxs = model.make_context_vector(context, word_to_ix)\n",
    "\n",
    "        # Step 2. Recall that torch *accumulates* gradients. Before passing in a\n",
    "        # new instance, you need to zero out the gradients from the old\n",
    "        # instance\n",
    "        model.zero_grad()\n",
    "\n",
    "        # Step 3. Run the forward pass, getting log probabilities over next\n",
    "        # words\n",
    "        log_probs = model(context_idxs)\n",
    "\n",
    "        # Step 4. Compute your loss function. (Again, Torch wants the target\n",
    "        # word wrapped in a tensor)\n",
    "        loss = loss_function(log_probs, torch.tensor([word_to_ix[target]], dtype=torch.long))\n",
    "\n",
    "        # Step 5. Do the backward pass and update the gradient\n",
    "        loss.backward()\n",
    "        optimizer.step()\n",
    "\n",
    "        # Get the Python number from a 1-element Tensor by calling tensor.item()\n",
    "        total_loss += loss.item()\n",
    "    losses.append(total_loss)"
   ]
  },
  {
   "cell_type": "code",
   "execution_count": 9,
   "id": "6c1f4112-4395-4b7e-b207-5d27f2c32e4b",
   "metadata": {},
   "outputs": [],
   "source": [
    "import matplotlib.pyplot as plt\n",
    "import numpy as np"
   ]
  },
  {
   "cell_type": "code",
   "execution_count": 10,
   "id": "94dbfe19-641c-45a2-a8e9-bd4d71bbc224",
   "metadata": {},
   "outputs": [],
   "source": [
    "def loss_ploting(ax, x, y):\n",
    "    ax.set_title(\"losses descending\")\n",
    "    ax.set_ylabel(\"losses\")\n",
    "    ax.set_xlabel(\"epochs\")\n",
    "    ax.plot(x, y)"
   ]
  },
  {
   "cell_type": "code",
   "execution_count": 11,
   "id": "fc90b282-d429-490f-940c-57be74ab71be",
   "metadata": {
    "scrolled": true
   },
   "outputs": [
    {
     "data": {
      "image/png": "[encoded data removed]",
      "text/plain": [
       "<Figure size 640x480 with 1 Axes>"
      ]
     },
     "metadata": {},
     "output_type": "display_data"
    }
   ],
   "source": [
    "fig, ax = plt.subplots()\n",
    "loss_ploting(ax, np.linspace(0., 100, len(losses)), losses)"
   ]
  },
  {
   "cell_type": "code",
   "execution_count": 12,
   "id": "4797df70-837c-40f2-8ca7-02373b8206b9",
   "metadata": {},
   "outputs": [],
   "source": [
    "prompts = [\n",
    "    \"\"\"อย่างสีเหลือง <EOS>\"\"\",\n",
    "    \"\"\"มะม่วง <EOS>\"\"\",\n",
    "    \"\"\"เตา <EOS>\"\"\",\n",
    "    \"\"\"มีด <EOS>\"\"\",\n",
    "    \"\"\"ไฮลักซ์ <EOS>\"\"\",\n",
    "    \"\"\"เสื้อใน <EOS>\"\"\",\n",
    "    \"\"\"ตกใจ <EOS>\"\"\",\n",
    "    \"\"\"นักบอล <EOS>\"\"\",\n",
    "    \"\"\"เยลลี่ <EOS>\"\"\",\n",
    "    \"\"\"ปั้มน้ำมัน <EOS>\"\"\",\n",
    "    \"\"\"แบงก์ <EOS>\"\"\",\n",
    "    \"\"\"ขนม <EOS>\"\"\",\n",
    "    \"\"\"ของเล่น <EOS>\"\"\",\n",
    "    \"\"\"นายก <EOS>\"\"\",\n",
    "]"
   ]
  },
  {
   "cell_type": "code",
   "execution_count": 13,
   "id": "54688c19-820b-4cc3-b991-535fd1c88a0e",
   "metadata": {},
   "outputs": [
    {
     "name": "stdout",
     "output_type": "stream",
     "text": [
      "อย่างสีเหลือง ปีโป้ False\n",
      "มะม่วง ฮัลโหลล False\n",
      "เตา วาโก้ False\n",
      "มีด อีโต้ True\n",
      "ไฮลักซ์ รีโว่ True\n",
      "เสื้อใน วาโก้ True\n",
      "ตกใจ โอ้โห้ True\n",
      "นักบอล โรนัลโด้ True\n",
      "เยลลี่ ปีโป้ True\n",
      "ปั้มน้ำมัน ปีโป้ False\n",
      "แบงก์ โอ้โห้ False\n",
      "ขนม อีโต้ False\n",
      "ของเล่น เตา False\n",
      "นายก ฮัลโหลล True\n",
      "score: 50.0\n"
     ]
    }
   ],
   "source": [
    "score = 0\n",
    "\n",
    "for prompt in prompts:\n",
    "    splited_prompt = prompt.split()\n",
    "    \n",
    "    vector_prompt = model.make_context_vector(splited_prompt, word_to_ix)\n",
    "    \n",
    "    log_probs = model(vector_prompt)\n",
    "    \n",
    "    predicted_index = torch.argmax(log_probs, dim=1).item()\n",
    "    predicted_word = ix_to_word[predicted_index]\n",
    "    true_word = word_map[predicted_word]\n",
    "\n",
    "    is_correct = true_word == prompt.split()[0]\n",
    "    \n",
    "    if is_correct:\n",
    "        score = score + 1\n",
    "    \n",
    "    print(prompt.split()[0], predicted_word, is_correct)\n",
    "\n",
    "print(f\"score: {(score/len(prompts))*100}%\")"
   ]
  }
 ],
 "metadata": {
  "kernelspec": {
   "display_name": "Python 3 (ipykernel)",
   "language": "python",
   "name": "python3"
  },
  "language_info": {
   "codemirror_mode": {
    "name": "ipython",
    "version": 3
   },
   "file_extension": ".py",
   "mimetype": "text/x-python",
   "name": "python",
   "nbconvert_exporter": "python",
   "pygments_lexer": "ipython3",
   "version": "3.12.3"
  }
 },
 "nbformat": 4,
 "nbformat_minor": 5
}
